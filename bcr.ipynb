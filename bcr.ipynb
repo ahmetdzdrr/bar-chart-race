{
 "cells": [
  {
   "cell_type": "code",
   "execution_count": 1,
   "metadata": {},
   "outputs": [],
   "source": [
    "import bar_chart_race as bcr\n",
    "import yfinance as yf\n",
    "import pandas as pd\n",
    "from datetime import datetime\n",
    "import warnings\n",
    "warnings.filterwarnings('ignore')"
   ]
  },
  {
   "cell_type": "code",
   "execution_count": 2,
   "metadata": {},
   "outputs": [
    {
     "name": "stderr",
     "output_type": "stream",
     "text": [
      "[*********************100%%**********************]  1 of 1 completed\n",
      "[*********************100%%**********************]  1 of 1 completed\n",
      "[*********************100%%**********************]  1 of 1 completed\n",
      "[*********************100%%**********************]  1 of 1 completed\n"
     ]
    }
   ],
   "source": [
    "tickers = ['AAPL', 'NVDA', 'GOOGL', 'TSLA']\n",
    "\n",
    "dfs = {}\n",
    "for ticker in tickers:\n",
    "    df = yf.download(ticker, start='2020-01-01', end=datetime.now())\n",
    "    dfs[ticker] = df['Close']\n",
    "\n",
    "df_combined = pd.DataFrame(dfs)\n",
    "df_combined.ffill(axis=1, inplace=True)\n",
    "df_combined.index = pd.to_datetime(df_combined.index, format='%Y-%m-%d')"
   ]
  },
  {
   "cell_type": "code",
   "execution_count": 3,
   "metadata": {},
   "outputs": [],
   "source": [
    "df_combined['Year'] = df_combined.index.year\n",
    "df_combined['Month'] = df_combined.index.month"
   ]
  },
  {
   "cell_type": "code",
   "execution_count": 4,
   "metadata": {},
   "outputs": [],
   "source": [
    "df_monthly = df_combined.groupby(['Year', 'Month'])[tickers].agg(lambda x: x[-1]).reset_index()\n",
    "df_monthly['Date'] = pd.to_datetime(df_monthly[['Year', 'Month']].assign(DAY=1))\n",
    "df_monthly = df_monthly[['Date', 'AAPL', 'NVDA', 'GOOGL', 'TSLA']]\n",
    "df_monthly.set_index('Date', inplace=True)"
   ]
  },
  {
   "cell_type": "code",
   "execution_count": 5,
   "metadata": {},
   "outputs": [],
   "source": [
    "bcr.bar_chart_race(\n",
    "    df=df_monthly,\n",
    "    filename='stock_prices_race.mp4',\n",
    "    title='AAPL & NVDIA & GOOGL & TSLA 2020 - 2024 Monthly Close Price History')"
   ]
  }
 ],
 "metadata": {
  "kernelspec": {
   "display_name": "env",
   "language": "python",
   "name": "python3"
  },
  "language_info": {
   "codemirror_mode": {
    "name": "ipython",
    "version": 3
   },
   "file_extension": ".py",
   "mimetype": "text/x-python",
   "name": "python",
   "nbconvert_exporter": "python",
   "pygments_lexer": "ipython3",
   "version": "3.9.13"
  }
 },
 "nbformat": 4,
 "nbformat_minor": 2
}
